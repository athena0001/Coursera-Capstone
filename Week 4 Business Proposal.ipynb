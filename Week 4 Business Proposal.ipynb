{
 "cells": [
  {
   "cell_type": "markdown",
   "metadata": {},
   "source": [
    "# Battle of Neighborhoods Proposal "
   ]
  },
  {
   "cell_type": "markdown",
   "metadata": {},
   "source": [
    "## Introduction\n",
    "This project is used to explore the facilities in different areas in Scarborough, Canada. It will help people make smarter and more efficient decisions as to which neighbourhood they would prefer in Scarborough."
   ]
  },
  {
   "cell_type": "markdown",
   "metadata": {},
   "source": [
    "## Problem \n",
    "The main purpose of this project is to make it easier for people who are shifting to Scarborough from overseas to choose the appropriate neighbourhood to stay in. This project will cover facilities such as hospitals, cafes, schools, and more. Immigrations to Canada are increasing, and there are many people who are struggling with choosing where to stay, especially those who are not very economically privileged. This project aims to help those who are struggling with their decision making by giving them a basic insight on the facilities available in the area, so that they can assess which neighbourhood would be the most suitable for them."
   ]
  },
  {
   "cell_type": "markdown",
   "metadata": {},
   "source": [
    "## How this project will be done\n",
    "\n",
    "### Foursquare API\n",
    "This project will use Foursquare API as the main source, since it has a large and updated database for location data.\n",
    "\n",
    "### Approach\n",
    "Explore and segment districts in Scarborough (Canada), segment them, and group them into clusters. The K-means clustering algorithm will be used to do this.\n",
    "\n",
    "### Libraries and Tools Used\n",
    "- Pandas, to create data frames;\n",
    "- JSON, to handle JSON files;\n",
    "- Scikit Learn, for k-means clustering;\n",
    "- Geocoder, to retrieve location data;\n",
    "- Beautiful Soup and Requests, to handle http requests;\n",
    "- Matplotlib, to plot visuals\n",
    "\n",
    "I will be making use of the work that I have done previously in week 3."
   ]
  },
  {
   "cell_type": "code",
   "execution_count": null,
   "metadata": {},
   "outputs": [],
   "source": []
  }
 ],
 "metadata": {
  "kernelspec": {
   "display_name": "Python 3",
   "language": "python",
   "name": "python3"
  },
  "language_info": {
   "codemirror_mode": {
    "name": "ipython",
    "version": 3
   },
   "file_extension": ".py",
   "mimetype": "text/x-python",
   "name": "python",
   "nbconvert_exporter": "python",
   "pygments_lexer": "ipython3",
   "version": "3.7.6"
  }
 },
 "nbformat": 4,
 "nbformat_minor": 4
}
