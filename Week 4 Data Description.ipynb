{
 "cells": [
  {
   "cell_type": "markdown",
   "metadata": {},
   "source": [
    "# Battle of Neighbourhoods Data Description"
   ]
  },
  {
   "cell_type": "markdown",
   "metadata": {},
   "source": [
    "Data Link: https://en.wikipedia.org/wiki/List_of_postal_codes_of_Canada:_M"
   ]
  },
  {
   "cell_type": "markdown",
   "metadata": {},
   "source": [
    "### Foursquare API:\n",
    "We will need information of different neighbourhoods in Scarborough. We will use the Foursquare API to gather this information. All the necessary information will be available in the Foursquare API, therefore it will be the sole data source for this project. For each neighbourhood, we will use a radius of 100 meters.\n",
    "\n",
    "#### The data to be obtained for each venue will be as follows:\n",
    "- Neighborhood\n",
    "- Neighborhood Latitude\n",
    "- Neighborhood Longitude\n",
    "- Venues (eg. restaurants, cafes, etc.)\n",
    "- Name of the venue (eg. name of restaurant, or name of a store, or school, etc.)\n",
    "- Venue Latitude (venue as in restaurants and other facilities inside the neighbourhood, not the neighbourhood itself)\n",
    "- Venue Longitude\n",
    "- Venue Category"
   ]
  },
  {
   "cell_type": "code",
   "execution_count": null,
   "metadata": {},
   "outputs": [],
   "source": []
  }
 ],
 "metadata": {
  "kernelspec": {
   "display_name": "Python 3",
   "language": "python",
   "name": "python3"
  },
  "language_info": {
   "codemirror_mode": {
    "name": "ipython",
    "version": 3
   },
   "file_extension": ".py",
   "mimetype": "text/x-python",
   "name": "python",
   "nbconvert_exporter": "python",
   "pygments_lexer": "ipython3",
   "version": "3.7.6"
  }
 },
 "nbformat": 4,
 "nbformat_minor": 4
}
